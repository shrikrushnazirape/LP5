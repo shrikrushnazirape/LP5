{
 "cells": [
  {
   "cell_type": "markdown",
   "id": "586372b5",
   "metadata": {},
   "source": [
    "### DL Assignment : 2<br>\n",
    "#### Name : Shrikrushna Zirape\n",
    "#### Roll No : 41283 (BE-2)\n",
    "#### Problem Statement : CNN \n",
    "use any dataset of plant disease and design a plant disease detection system using CNN\n"
   ]
  },
  {
   "cell_type": "code",
   "execution_count": 6,
   "id": "2b39e857",
   "metadata": {},
   "outputs": [],
   "source": [
    "import tensorflow as tf\n",
    "from tensorflow.keras.preprocessing.image import ImageDataGenerator\n",
    "from tensorflow.keras.layers import Conv2D\n",
    "import numpy as np\n",
    "from tensorflow.keras.preprocessing import image\n",
    "import matplotlib.pyplot as plt\n",
    "import cv2\n"
   ]
  },
  {
   "cell_type": "code",
   "execution_count": 7,
   "id": "ccce4a74",
   "metadata": {},
   "outputs": [],
   "source": [
    "IMG_HEIGHT = 64\n",
    "IMG_WIDTH = 64\n",
    "DEPTH = 3\n",
    "\n",
    "train_datagen = ImageDataGenerator(rescale = 1./255,\n",
    "    rotation_range=25, width_shift_range=0.1,\n",
    "    height_shift_range=0.1, shear_range=0.2,\n",
    "    zoom_range=0.2, horizontal_flip=True,\n",
    "    fill_mode=\"nearest\")"
   ]
  },
  {
   "cell_type": "code",
   "execution_count": 8,
   "id": "5e049158",
   "metadata": {},
   "outputs": [
    {
     "name": "stdout",
     "output_type": "stream",
     "text": [
      "Found 1951 images belonging to 4 classes.\n",
      "Found 253 images belonging to 4 classes.\n"
     ]
    }
   ],
   "source": [
    "training_set = train_datagen.flow_from_directory('data/cotton/Cotton Disease/train',\n",
    "                                                 color_mode = \"rgb\",\n",
    "                                                 shuffle = True,\n",
    "                                                 seed = 42,\n",
    "                                                 target_size=  (IMG_HEIGHT, IMG_WIDTH),\n",
    "                                                 batch_size = 32,\n",
    "                                                 class_mode = 'categorical')\n",
    "\n",
    "# Preprocessing the val set\n",
    "val_datagen = ImageDataGenerator(rescale = 1./255)\n",
    "val_set = val_datagen.flow_from_directory('data/cotton/Cotton Disease/val',\n",
    "                                            color_mode = \"rgb\",\n",
    "                                            shuffle = True,\n",
    "                                            seed =42,\n",
    "                                            target_size = (IMG_HEIGHT, IMG_WIDTH),\n",
    "                                            batch_size = 32,\n",
    "                                            class_mode = 'categorical')"
   ]
  },
  {
   "cell_type": "code",
   "execution_count": 9,
   "id": "8a9957e5",
   "metadata": {},
   "outputs": [],
   "source": [
    "# Initialising the CNN\n",
    "cnn = tf.keras.models.Sequential()\n",
    "\n",
    "# Step 1 - Convolution\n",
    "cnn.add(tf.keras.layers.Conv2D(filters=32,padding=\"same\",kernel_size=3, activation='relu', input_shape=[64, 64, 3]))\n",
    "\n",
    "# Step 2 - Pooling\n",
    "cnn.add(tf.keras.layers.MaxPool2D(pool_size=2, strides=2))\n",
    "\n",
    "# Adding a second convolutional layer\n",
    "cnn.add(tf.keras.layers.Conv2D(filters=32,padding='same',kernel_size=3, activation='relu'))\n",
    "cnn.add(tf.keras.layers.MaxPool2D(pool_size=2, strides=2))\n",
    "\n",
    "# Adding a second convolutional layer\n",
    "cnn.add(tf.keras.layers.Conv2D(filters=32,padding='same',kernel_size=3, activation='relu'))\n",
    "cnn.add(tf.keras.layers.MaxPool2D(pool_size=2, strides=2))\n",
    "\n",
    "# Step 3 - Flattening\n",
    "cnn.add(tf.keras.layers.Flatten())\n",
    "\n",
    "# Step 4 - Full Connection\n",
    "cnn.add(tf.keras.layers.Dense(units=128, activation='relu'))\n",
    "\n",
    "# Step 5 - Output Layer\n",
    "cnn.add(tf.keras.layers.Dense(units=4, activation='softmax'))"
   ]
  },
  {
   "cell_type": "code",
   "execution_count": 10,
   "id": "34a8a8ec",
   "metadata": {},
   "outputs": [
    {
     "name": "stdout",
     "output_type": "stream",
     "text": [
      "Model: \"sequential_1\"\n",
      "_________________________________________________________________\n",
      " Layer (type)                Output Shape              Param #   \n",
      "=================================================================\n",
      " conv2d_4 (Conv2D)           (None, 64, 64, 32)        896       \n",
      "                                                                 \n",
      " max_pooling2d_4 (MaxPooling  (None, 32, 32, 32)       0         \n",
      " 2D)                                                             \n",
      "                                                                 \n",
      " conv2d_5 (Conv2D)           (None, 32, 32, 32)        9248      \n",
      "                                                                 \n",
      " max_pooling2d_5 (MaxPooling  (None, 16, 16, 32)       0         \n",
      " 2D)                                                             \n",
      "                                                                 \n",
      " conv2d_6 (Conv2D)           (None, 16, 16, 32)        9248      \n",
      "                                                                 \n",
      " max_pooling2d_6 (MaxPooling  (None, 8, 8, 32)         0         \n",
      " 2D)                                                             \n",
      "                                                                 \n",
      " flatten_1 (Flatten)         (None, 2048)              0         \n",
      "                                                                 \n",
      " dense_2 (Dense)             (None, 128)               262272    \n",
      "                                                                 \n",
      " dense_3 (Dense)             (None, 4)                 516       \n",
      "                                                                 \n",
      "=================================================================\n",
      "Total params: 282,180\n",
      "Trainable params: 282,180\n",
      "Non-trainable params: 0\n",
      "_________________________________________________________________\n"
     ]
    }
   ],
   "source": [
    "cnn.summary()"
   ]
  },
  {
   "cell_type": "code",
   "execution_count": 11,
   "id": "13df0a05",
   "metadata": {},
   "outputs": [],
   "source": [
    "# Compiling the CNN\n",
    "cnn.compile(optimizer = 'adam',loss = 'categorical_crossentropy', metrics = ['accuracy'])"
   ]
  },
  {
   "cell_type": "code",
   "execution_count": 13,
   "id": "1143b723",
   "metadata": {},
   "outputs": [],
   "source": [
    "# Training the CNN on the Training set and evaluating it on the Test set"
   ]
  },
  {
   "cell_type": "code",
   "execution_count": 12,
   "id": "0546ce68",
   "metadata": {},
   "outputs": [
    {
     "name": "stderr",
     "output_type": "stream",
     "text": [
      "C:\\Users\\LENOVO\\AppData\\Local\\Temp/ipykernel_13880/268919757.py:1: UserWarning: `Model.fit_generator` is deprecated and will be removed in a future version. Please use `Model.fit`, which supports generators.\n",
      "  m = cnn.fit_generator(training_set, validation_data = val_set, epochs = 30)\n"
     ]
    },
    {
     "name": "stdout",
     "output_type": "stream",
     "text": [
      "Epoch 1/30\n",
      "61/61 [==============================] - 86s 1s/step - loss: 1.2405 - accuracy: 0.4470 - val_loss: 1.0253 - val_accuracy: 0.5415\n",
      "Epoch 2/30\n",
      "61/61 [==============================] - 26s 432ms/step - loss: 0.9975 - accuracy: 0.5864 - val_loss: 0.7960 - val_accuracy: 0.6719\n",
      "Epoch 3/30\n",
      "61/61 [==============================] - 28s 460ms/step - loss: 0.8708 - accuracy: 0.6402 - val_loss: 0.9708 - val_accuracy: 0.6206\n",
      "Epoch 4/30\n",
      "61/61 [==============================] - 27s 444ms/step - loss: 0.7306 - accuracy: 0.7022 - val_loss: 0.5799 - val_accuracy: 0.7668\n",
      "Epoch 5/30\n",
      "61/61 [==============================] - 28s 454ms/step - loss: 0.6470 - accuracy: 0.7350 - val_loss: 0.4603 - val_accuracy: 0.8182\n",
      "Epoch 6/30\n",
      "61/61 [==============================] - 25s 409ms/step - loss: 0.5917 - accuracy: 0.7632 - val_loss: 0.4643 - val_accuracy: 0.7984\n",
      "Epoch 7/30\n",
      "61/61 [==============================] - 24s 390ms/step - loss: 0.5461 - accuracy: 0.7832 - val_loss: 0.4843 - val_accuracy: 0.7984\n",
      "Epoch 8/30\n",
      "61/61 [==============================] - 24s 395ms/step - loss: 0.4865 - accuracy: 0.8119 - val_loss: 0.3599 - val_accuracy: 0.8498\n",
      "Epoch 9/30\n",
      "61/61 [==============================] - 24s 385ms/step - loss: 0.4642 - accuracy: 0.8191 - val_loss: 0.4955 - val_accuracy: 0.7905\n",
      "Epoch 10/30\n",
      "61/61 [==============================] - 24s 386ms/step - loss: 0.4373 - accuracy: 0.8329 - val_loss: 0.3485 - val_accuracy: 0.8656\n",
      "Epoch 11/30\n",
      "61/61 [==============================] - 23s 383ms/step - loss: 0.4401 - accuracy: 0.8303 - val_loss: 0.3005 - val_accuracy: 0.8656\n",
      "Epoch 12/30\n",
      "61/61 [==============================] - 24s 385ms/step - loss: 0.3968 - accuracy: 0.8385 - val_loss: 0.3458 - val_accuracy: 0.8656\n",
      "Epoch 13/30\n",
      "61/61 [==============================] - 24s 390ms/step - loss: 0.4515 - accuracy: 0.8242 - val_loss: 0.3542 - val_accuracy: 0.8696\n",
      "Epoch 14/30\n",
      "61/61 [==============================] - 23s 383ms/step - loss: 0.3867 - accuracy: 0.8426 - val_loss: 0.4662 - val_accuracy: 0.7945\n",
      "Epoch 15/30\n",
      "61/61 [==============================] - 23s 383ms/step - loss: 0.3914 - accuracy: 0.8411 - val_loss: 0.2889 - val_accuracy: 0.8656\n",
      "Epoch 16/30\n",
      "61/61 [==============================] - 24s 394ms/step - loss: 0.3469 - accuracy: 0.8637 - val_loss: 0.2448 - val_accuracy: 0.9012\n",
      "Epoch 17/30\n",
      "61/61 [==============================] - 25s 404ms/step - loss: 0.3816 - accuracy: 0.8416 - val_loss: 0.2451 - val_accuracy: 0.8972\n",
      "Epoch 18/30\n",
      "61/61 [==============================] - 25s 402ms/step - loss: 0.3133 - accuracy: 0.8862 - val_loss: 0.2318 - val_accuracy: 0.9209\n",
      "Epoch 19/30\n",
      "61/61 [==============================] - 25s 413ms/step - loss: 0.3491 - accuracy: 0.8657 - val_loss: 0.2413 - val_accuracy: 0.8893\n",
      "Epoch 20/30\n",
      "61/61 [==============================] - 47s 774ms/step - loss: 0.3294 - accuracy: 0.8801 - val_loss: 0.2396 - val_accuracy: 0.9051\n",
      "Epoch 21/30\n",
      "61/61 [==============================] - 33s 542ms/step - loss: 0.3208 - accuracy: 0.8760 - val_loss: 0.2379 - val_accuracy: 0.9209\n",
      "Epoch 22/30\n",
      "61/61 [==============================] - 23s 372ms/step - loss: 0.3203 - accuracy: 0.8857 - val_loss: 0.2446 - val_accuracy: 0.8933\n",
      "Epoch 23/30\n",
      "61/61 [==============================] - 23s 381ms/step - loss: 0.2943 - accuracy: 0.8852 - val_loss: 0.2914 - val_accuracy: 0.8972\n",
      "Epoch 24/30\n",
      "61/61 [==============================] - 23s 377ms/step - loss: 0.2936 - accuracy: 0.8847 - val_loss: 0.3222 - val_accuracy: 0.8735\n",
      "Epoch 25/30\n",
      "61/61 [==============================] - 25s 406ms/step - loss: 0.3038 - accuracy: 0.8857 - val_loss: 0.1978 - val_accuracy: 0.9289\n",
      "Epoch 26/30\n",
      "61/61 [==============================] - 25s 401ms/step - loss: 0.2615 - accuracy: 0.8990 - val_loss: 0.2381 - val_accuracy: 0.9091\n",
      "Epoch 27/30\n",
      "61/61 [==============================] - 24s 401ms/step - loss: 0.2625 - accuracy: 0.9036 - val_loss: 0.1818 - val_accuracy: 0.9447\n",
      "Epoch 28/30\n",
      "61/61 [==============================] - 24s 396ms/step - loss: 0.2718 - accuracy: 0.8995 - val_loss: 0.1964 - val_accuracy: 0.9289\n",
      "Epoch 29/30\n",
      "61/61 [==============================] - 24s 397ms/step - loss: 0.2569 - accuracy: 0.9067 - val_loss: 0.2598 - val_accuracy: 0.8893\n",
      "Epoch 30/30\n",
      "61/61 [==============================] - 24s 397ms/step - loss: 0.2582 - accuracy: 0.8975 - val_loss: 0.1930 - val_accuracy: 0.9407\n"
     ]
    }
   ],
   "source": [
    "m = cnn.fit_generator(training_set, validation_data = val_set, epochs = 30)"
   ]
  },
  {
   "cell_type": "code",
   "execution_count": 14,
   "id": "dc82ed20",
   "metadata": {},
   "outputs": [
    {
     "name": "stdout",
     "output_type": "stream",
     "text": [
      "Found 106 images belonging to 4 classes.\n"
     ]
    }
   ],
   "source": [
    "# Preprocessing the Test set\n",
    "test_datagen = ImageDataGenerator(rescale = 1./255)\n",
    "test_set = val_datagen.flow_from_directory('data/cotton/Cotton Disease/test',\n",
    "                                            color_mode = \"rgb\",\n",
    "                                            shuffle = True,\n",
    "                                            seed =42,\n",
    "                                            target_size = (IMG_HEIGHT, IMG_WIDTH),\n",
    "                                            #batch_size = 32,\n",
    "                                            class_mode = 'categorical')"
   ]
  },
  {
   "cell_type": "code",
   "execution_count": 15,
   "id": "e4f82b69",
   "metadata": {},
   "outputs": [
    {
     "name": "stdout",
     "output_type": "stream",
     "text": [
      "[INFO] Calculating model accuracy\n",
      "4/4 [==============================] - 7s 2s/step - loss: 0.1823 - accuracy: 0.9434\n",
      "Test Accuracy: 0.9433962106704712\n"
     ]
    }
   ],
   "source": [
    "print(\"[INFO] Calculating model accuracy\")\n",
    "scores = cnn.evaluate(test_set)\n",
    "print(f\"Test Accuracy: {scores[1]}\")"
   ]
  }
 ],
 "metadata": {
  "kernelspec": {
   "display_name": "Python 3 (ipykernel)",
   "language": "python",
   "name": "python3"
  },
  "language_info": {
   "codemirror_mode": {
    "name": "ipython",
    "version": 3
   },
   "file_extension": ".py",
   "mimetype": "text/x-python",
   "name": "python",
   "nbconvert_exporter": "python",
   "pygments_lexer": "ipython3",
   "version": "3.9.6"
  }
 },
 "nbformat": 4,
 "nbformat_minor": 5
}
