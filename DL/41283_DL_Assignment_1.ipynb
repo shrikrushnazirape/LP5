{
 "cells": [
  {
   "cell_type": "markdown",
   "id": "4384acc5",
   "metadata": {},
   "source": [
    "### DL Assignment : 1<br>\n",
    "#### Name : Shrikrushna Zirape\n",
    "#### Roll No : 41283 (BE-2)\n",
    "#### Problem Statement : Linear Regression by using Deep Neural Network : Implement boston housing price prediction problem by Linear regression using Deep Neural network. Use Boston House price prediction dataset."
   ]
  },
  {
   "cell_type": "code",
   "execution_count": 1,
   "id": "36e90601",
   "metadata": {},
   "outputs": [],
   "source": [
    "import pandas as pd\n",
    "import matplotlib.pyplot as plt"
   ]
  },
  {
   "cell_type": "markdown",
   "id": "09c0d469",
   "metadata": {},
   "source": [
    "### Load Dataset"
   ]
  },
  {
   "cell_type": "code",
   "execution_count": 2,
   "id": "64638d93",
   "metadata": {},
   "outputs": [
    {
     "data": {
      "text/html": [
       "<div>\n",
       "<style scoped>\n",
       "    .dataframe tbody tr th:only-of-type {\n",
       "        vertical-align: middle;\n",
       "    }\n",
       "\n",
       "    .dataframe tbody tr th {\n",
       "        vertical-align: top;\n",
       "    }\n",
       "\n",
       "    .dataframe thead th {\n",
       "        text-align: right;\n",
       "    }\n",
       "</style>\n",
       "<table border=\"1\" class=\"dataframe\">\n",
       "  <thead>\n",
       "    <tr style=\"text-align: right;\">\n",
       "      <th></th>\n",
       "      <th>CRIM</th>\n",
       "      <th>ZN</th>\n",
       "      <th>INDUS</th>\n",
       "      <th>CHAS</th>\n",
       "      <th>NOX</th>\n",
       "      <th>RM</th>\n",
       "      <th>AGE</th>\n",
       "      <th>DIS</th>\n",
       "      <th>RAD</th>\n",
       "      <th>TAX</th>\n",
       "      <th>PTRATIO</th>\n",
       "      <th>B</th>\n",
       "      <th>LSTAT</th>\n",
       "      <th>MEDV</th>\n",
       "      <th>CAT. MEDV</th>\n",
       "      <th>Unnamed: 15</th>\n",
       "      <th>Unnamed: 16</th>\n",
       "    </tr>\n",
       "  </thead>\n",
       "  <tbody>\n",
       "    <tr>\n",
       "      <th>0</th>\n",
       "      <td>0.00632</td>\n",
       "      <td>18.0</td>\n",
       "      <td>2.31</td>\n",
       "      <td>0</td>\n",
       "      <td>0.538</td>\n",
       "      <td>6.575</td>\n",
       "      <td>65.2</td>\n",
       "      <td>4.0900</td>\n",
       "      <td>1</td>\n",
       "      <td>296</td>\n",
       "      <td>15.3</td>\n",
       "      <td>396.90</td>\n",
       "      <td>4.98</td>\n",
       "      <td>24.0</td>\n",
       "      <td>0</td>\n",
       "      <td>NaN</td>\n",
       "      <td>NaN</td>\n",
       "    </tr>\n",
       "    <tr>\n",
       "      <th>1</th>\n",
       "      <td>0.02731</td>\n",
       "      <td>0.0</td>\n",
       "      <td>7.07</td>\n",
       "      <td>0</td>\n",
       "      <td>0.469</td>\n",
       "      <td>6.421</td>\n",
       "      <td>78.9</td>\n",
       "      <td>4.9671</td>\n",
       "      <td>2</td>\n",
       "      <td>242</td>\n",
       "      <td>17.8</td>\n",
       "      <td>396.90</td>\n",
       "      <td>9.14</td>\n",
       "      <td>21.6</td>\n",
       "      <td>0</td>\n",
       "      <td>NaN</td>\n",
       "      <td>NaN</td>\n",
       "    </tr>\n",
       "    <tr>\n",
       "      <th>2</th>\n",
       "      <td>0.02729</td>\n",
       "      <td>0.0</td>\n",
       "      <td>7.07</td>\n",
       "      <td>0</td>\n",
       "      <td>0.469</td>\n",
       "      <td>7.185</td>\n",
       "      <td>61.1</td>\n",
       "      <td>4.9671</td>\n",
       "      <td>2</td>\n",
       "      <td>242</td>\n",
       "      <td>17.8</td>\n",
       "      <td>392.83</td>\n",
       "      <td>4.03</td>\n",
       "      <td>34.7</td>\n",
       "      <td>1</td>\n",
       "      <td>NaN</td>\n",
       "      <td>NaN</td>\n",
       "    </tr>\n",
       "    <tr>\n",
       "      <th>3</th>\n",
       "      <td>0.03237</td>\n",
       "      <td>0.0</td>\n",
       "      <td>2.18</td>\n",
       "      <td>0</td>\n",
       "      <td>0.458</td>\n",
       "      <td>6.998</td>\n",
       "      <td>45.8</td>\n",
       "      <td>6.0622</td>\n",
       "      <td>3</td>\n",
       "      <td>222</td>\n",
       "      <td>18.7</td>\n",
       "      <td>394.63</td>\n",
       "      <td>2.94</td>\n",
       "      <td>33.4</td>\n",
       "      <td>1</td>\n",
       "      <td>NaN</td>\n",
       "      <td>NaN</td>\n",
       "    </tr>\n",
       "    <tr>\n",
       "      <th>4</th>\n",
       "      <td>0.06905</td>\n",
       "      <td>0.0</td>\n",
       "      <td>2.18</td>\n",
       "      <td>0</td>\n",
       "      <td>0.458</td>\n",
       "      <td>7.147</td>\n",
       "      <td>54.2</td>\n",
       "      <td>6.0622</td>\n",
       "      <td>3</td>\n",
       "      <td>222</td>\n",
       "      <td>18.7</td>\n",
       "      <td>396.90</td>\n",
       "      <td>5.33</td>\n",
       "      <td>36.2</td>\n",
       "      <td>1</td>\n",
       "      <td>NaN</td>\n",
       "      <td>NaN</td>\n",
       "    </tr>\n",
       "    <tr>\n",
       "      <th>5</th>\n",
       "      <td>0.02985</td>\n",
       "      <td>0.0</td>\n",
       "      <td>2.18</td>\n",
       "      <td>0</td>\n",
       "      <td>0.458</td>\n",
       "      <td>6.430</td>\n",
       "      <td>58.7</td>\n",
       "      <td>6.0622</td>\n",
       "      <td>3</td>\n",
       "      <td>222</td>\n",
       "      <td>18.7</td>\n",
       "      <td>394.12</td>\n",
       "      <td>5.21</td>\n",
       "      <td>28.7</td>\n",
       "      <td>0</td>\n",
       "      <td>NaN</td>\n",
       "      <td>NaN</td>\n",
       "    </tr>\n",
       "    <tr>\n",
       "      <th>6</th>\n",
       "      <td>0.08829</td>\n",
       "      <td>12.5</td>\n",
       "      <td>7.87</td>\n",
       "      <td>0</td>\n",
       "      <td>0.524</td>\n",
       "      <td>6.012</td>\n",
       "      <td>66.6</td>\n",
       "      <td>5.5605</td>\n",
       "      <td>5</td>\n",
       "      <td>311</td>\n",
       "      <td>15.2</td>\n",
       "      <td>395.60</td>\n",
       "      <td>12.43</td>\n",
       "      <td>22.9</td>\n",
       "      <td>0</td>\n",
       "      <td>NaN</td>\n",
       "      <td>NaN</td>\n",
       "    </tr>\n",
       "    <tr>\n",
       "      <th>7</th>\n",
       "      <td>0.14455</td>\n",
       "      <td>12.5</td>\n",
       "      <td>7.87</td>\n",
       "      <td>0</td>\n",
       "      <td>0.524</td>\n",
       "      <td>6.172</td>\n",
       "      <td>96.1</td>\n",
       "      <td>5.9505</td>\n",
       "      <td>5</td>\n",
       "      <td>311</td>\n",
       "      <td>15.2</td>\n",
       "      <td>396.90</td>\n",
       "      <td>19.15</td>\n",
       "      <td>27.1</td>\n",
       "      <td>0</td>\n",
       "      <td>NaN</td>\n",
       "      <td>NaN</td>\n",
       "    </tr>\n",
       "    <tr>\n",
       "      <th>8</th>\n",
       "      <td>0.21124</td>\n",
       "      <td>12.5</td>\n",
       "      <td>7.87</td>\n",
       "      <td>0</td>\n",
       "      <td>0.524</td>\n",
       "      <td>5.631</td>\n",
       "      <td>100.0</td>\n",
       "      <td>6.0821</td>\n",
       "      <td>5</td>\n",
       "      <td>311</td>\n",
       "      <td>15.2</td>\n",
       "      <td>386.63</td>\n",
       "      <td>29.93</td>\n",
       "      <td>16.5</td>\n",
       "      <td>0</td>\n",
       "      <td>NaN</td>\n",
       "      <td>NaN</td>\n",
       "    </tr>\n",
       "    <tr>\n",
       "      <th>9</th>\n",
       "      <td>0.17004</td>\n",
       "      <td>12.5</td>\n",
       "      <td>7.87</td>\n",
       "      <td>0</td>\n",
       "      <td>0.524</td>\n",
       "      <td>6.004</td>\n",
       "      <td>85.9</td>\n",
       "      <td>6.5921</td>\n",
       "      <td>5</td>\n",
       "      <td>311</td>\n",
       "      <td>15.2</td>\n",
       "      <td>386.71</td>\n",
       "      <td>17.10</td>\n",
       "      <td>18.9</td>\n",
       "      <td>0</td>\n",
       "      <td>NaN</td>\n",
       "      <td>NaN</td>\n",
       "    </tr>\n",
       "  </tbody>\n",
       "</table>\n",
       "</div>"
      ],
      "text/plain": [
       "      CRIM    ZN  INDUS  CHAS    NOX     RM    AGE     DIS  RAD  TAX  PTRATIO  \\\n",
       "0  0.00632  18.0   2.31     0  0.538  6.575   65.2  4.0900    1  296     15.3   \n",
       "1  0.02731   0.0   7.07     0  0.469  6.421   78.9  4.9671    2  242     17.8   \n",
       "2  0.02729   0.0   7.07     0  0.469  7.185   61.1  4.9671    2  242     17.8   \n",
       "3  0.03237   0.0   2.18     0  0.458  6.998   45.8  6.0622    3  222     18.7   \n",
       "4  0.06905   0.0   2.18     0  0.458  7.147   54.2  6.0622    3  222     18.7   \n",
       "5  0.02985   0.0   2.18     0  0.458  6.430   58.7  6.0622    3  222     18.7   \n",
       "6  0.08829  12.5   7.87     0  0.524  6.012   66.6  5.5605    5  311     15.2   \n",
       "7  0.14455  12.5   7.87     0  0.524  6.172   96.1  5.9505    5  311     15.2   \n",
       "8  0.21124  12.5   7.87     0  0.524  5.631  100.0  6.0821    5  311     15.2   \n",
       "9  0.17004  12.5   7.87     0  0.524  6.004   85.9  6.5921    5  311     15.2   \n",
       "\n",
       "        B  LSTAT  MEDV  CAT. MEDV  Unnamed: 15  Unnamed: 16  \n",
       "0  396.90   4.98  24.0          0          NaN          NaN  \n",
       "1  396.90   9.14  21.6          0          NaN          NaN  \n",
       "2  392.83   4.03  34.7          1          NaN          NaN  \n",
       "3  394.63   2.94  33.4          1          NaN          NaN  \n",
       "4  396.90   5.33  36.2          1          NaN          NaN  \n",
       "5  394.12   5.21  28.7          0          NaN          NaN  \n",
       "6  395.60  12.43  22.9          0          NaN          NaN  \n",
       "7  396.90  19.15  27.1          0          NaN          NaN  \n",
       "8  386.63  29.93  16.5          0          NaN          NaN  \n",
       "9  386.71  17.10  18.9          0          NaN          NaN  "
      ]
     },
     "execution_count": 2,
     "metadata": {},
     "output_type": "execute_result"
    }
   ],
   "source": [
    "df = pd.read_csv('data/Boston.csv')\n",
    "df.head(10)"
   ]
  },
  {
   "cell_type": "code",
   "execution_count": 3,
   "id": "55426a1b",
   "metadata": {},
   "outputs": [],
   "source": [
    "df.drop(columns=['Unnamed: 15','Unnamed: 16'],inplace=True)"
   ]
  },
  {
   "cell_type": "code",
   "execution_count": 4,
   "id": "dade5278",
   "metadata": {},
   "outputs": [],
   "source": [
    "df.drop(columns=['CAT. MEDV'],inplace=True)"
   ]
  },
  {
   "cell_type": "markdown",
   "id": "17d566fe",
   "metadata": {},
   "source": [
    "#### Checking for null values"
   ]
  },
  {
   "cell_type": "code",
   "execution_count": 5,
   "id": "e4792737",
   "metadata": {},
   "outputs": [
    {
     "data": {
      "text/plain": [
       "CRIM       0\n",
       "ZN         0\n",
       "INDUS      0\n",
       "CHAS       0\n",
       "NOX        0\n",
       "RM         0\n",
       "AGE        0\n",
       "DIS        0\n",
       "RAD        0\n",
       "TAX        0\n",
       "PTRATIO    0\n",
       "B          0\n",
       "LSTAT      0\n",
       "MEDV       0\n",
       "dtype: int64"
      ]
     },
     "execution_count": 5,
     "metadata": {},
     "output_type": "execute_result"
    }
   ],
   "source": [
    "df.isnull().sum()"
   ]
  },
  {
   "cell_type": "code",
   "execution_count": 6,
   "id": "036b309e",
   "metadata": {},
   "outputs": [
    {
     "name": "stdout",
     "output_type": "stream",
     "text": [
      "<class 'pandas.core.frame.DataFrame'>\n",
      "RangeIndex: 506 entries, 0 to 505\n",
      "Data columns (total 14 columns):\n",
      " #   Column   Non-Null Count  Dtype  \n",
      "---  ------   --------------  -----  \n",
      " 0   CRIM     506 non-null    float64\n",
      " 1   ZN       506 non-null    float64\n",
      " 2   INDUS    506 non-null    float64\n",
      " 3   CHAS     506 non-null    int64  \n",
      " 4   NOX      506 non-null    float64\n",
      " 5   RM       506 non-null    float64\n",
      " 6   AGE      506 non-null    float64\n",
      " 7   DIS      506 non-null    float64\n",
      " 8   RAD      506 non-null    int64  \n",
      " 9   TAX      506 non-null    int64  \n",
      " 10  PTRATIO  506 non-null    float64\n",
      " 11  B        506 non-null    float64\n",
      " 12  LSTAT    506 non-null    float64\n",
      " 13  MEDV     506 non-null    float64\n",
      "dtypes: float64(11), int64(3)\n",
      "memory usage: 55.5 KB\n"
     ]
    }
   ],
   "source": [
    "df.info()"
   ]
  },
  {
   "cell_type": "code",
   "execution_count": 7,
   "id": "851ae670",
   "metadata": {},
   "outputs": [
    {
     "data": {
      "text/html": [
       "<div>\n",
       "<style scoped>\n",
       "    .dataframe tbody tr th:only-of-type {\n",
       "        vertical-align: middle;\n",
       "    }\n",
       "\n",
       "    .dataframe tbody tr th {\n",
       "        vertical-align: top;\n",
       "    }\n",
       "\n",
       "    .dataframe thead th {\n",
       "        text-align: right;\n",
       "    }\n",
       "</style>\n",
       "<table border=\"1\" class=\"dataframe\">\n",
       "  <thead>\n",
       "    <tr style=\"text-align: right;\">\n",
       "      <th></th>\n",
       "      <th>CRIM</th>\n",
       "      <th>ZN</th>\n",
       "      <th>INDUS</th>\n",
       "      <th>CHAS</th>\n",
       "      <th>NOX</th>\n",
       "      <th>RM</th>\n",
       "      <th>AGE</th>\n",
       "      <th>DIS</th>\n",
       "      <th>RAD</th>\n",
       "      <th>TAX</th>\n",
       "      <th>PTRATIO</th>\n",
       "      <th>B</th>\n",
       "      <th>LSTAT</th>\n",
       "      <th>MEDV</th>\n",
       "    </tr>\n",
       "  </thead>\n",
       "  <tbody>\n",
       "    <tr>\n",
       "      <th>count</th>\n",
       "      <td>506.000000</td>\n",
       "      <td>506.000000</td>\n",
       "      <td>506.000000</td>\n",
       "      <td>506.000000</td>\n",
       "      <td>506.000000</td>\n",
       "      <td>506.000000</td>\n",
       "      <td>506.000000</td>\n",
       "      <td>506.000000</td>\n",
       "      <td>506.000000</td>\n",
       "      <td>506.000000</td>\n",
       "      <td>506.000000</td>\n",
       "      <td>506.000000</td>\n",
       "      <td>506.000000</td>\n",
       "      <td>506.000000</td>\n",
       "    </tr>\n",
       "    <tr>\n",
       "      <th>mean</th>\n",
       "      <td>3.613524</td>\n",
       "      <td>11.363636</td>\n",
       "      <td>11.136779</td>\n",
       "      <td>0.069170</td>\n",
       "      <td>0.554695</td>\n",
       "      <td>6.284634</td>\n",
       "      <td>68.574901</td>\n",
       "      <td>3.795043</td>\n",
       "      <td>9.549407</td>\n",
       "      <td>408.237154</td>\n",
       "      <td>18.455534</td>\n",
       "      <td>356.674032</td>\n",
       "      <td>12.653063</td>\n",
       "      <td>22.532806</td>\n",
       "    </tr>\n",
       "    <tr>\n",
       "      <th>std</th>\n",
       "      <td>8.601545</td>\n",
       "      <td>23.322453</td>\n",
       "      <td>6.860353</td>\n",
       "      <td>0.253994</td>\n",
       "      <td>0.115878</td>\n",
       "      <td>0.702617</td>\n",
       "      <td>28.148861</td>\n",
       "      <td>2.105710</td>\n",
       "      <td>8.707259</td>\n",
       "      <td>168.537116</td>\n",
       "      <td>2.164946</td>\n",
       "      <td>91.294864</td>\n",
       "      <td>7.141062</td>\n",
       "      <td>9.197104</td>\n",
       "    </tr>\n",
       "    <tr>\n",
       "      <th>min</th>\n",
       "      <td>0.006320</td>\n",
       "      <td>0.000000</td>\n",
       "      <td>0.460000</td>\n",
       "      <td>0.000000</td>\n",
       "      <td>0.385000</td>\n",
       "      <td>3.561000</td>\n",
       "      <td>2.900000</td>\n",
       "      <td>1.129600</td>\n",
       "      <td>1.000000</td>\n",
       "      <td>187.000000</td>\n",
       "      <td>12.600000</td>\n",
       "      <td>0.320000</td>\n",
       "      <td>1.730000</td>\n",
       "      <td>5.000000</td>\n",
       "    </tr>\n",
       "    <tr>\n",
       "      <th>25%</th>\n",
       "      <td>0.082045</td>\n",
       "      <td>0.000000</td>\n",
       "      <td>5.190000</td>\n",
       "      <td>0.000000</td>\n",
       "      <td>0.449000</td>\n",
       "      <td>5.885500</td>\n",
       "      <td>45.025000</td>\n",
       "      <td>2.100175</td>\n",
       "      <td>4.000000</td>\n",
       "      <td>279.000000</td>\n",
       "      <td>17.400000</td>\n",
       "      <td>375.377500</td>\n",
       "      <td>6.950000</td>\n",
       "      <td>17.025000</td>\n",
       "    </tr>\n",
       "    <tr>\n",
       "      <th>50%</th>\n",
       "      <td>0.256510</td>\n",
       "      <td>0.000000</td>\n",
       "      <td>9.690000</td>\n",
       "      <td>0.000000</td>\n",
       "      <td>0.538000</td>\n",
       "      <td>6.208500</td>\n",
       "      <td>77.500000</td>\n",
       "      <td>3.207450</td>\n",
       "      <td>5.000000</td>\n",
       "      <td>330.000000</td>\n",
       "      <td>19.050000</td>\n",
       "      <td>391.440000</td>\n",
       "      <td>11.360000</td>\n",
       "      <td>21.200000</td>\n",
       "    </tr>\n",
       "    <tr>\n",
       "      <th>75%</th>\n",
       "      <td>3.677083</td>\n",
       "      <td>12.500000</td>\n",
       "      <td>18.100000</td>\n",
       "      <td>0.000000</td>\n",
       "      <td>0.624000</td>\n",
       "      <td>6.623500</td>\n",
       "      <td>94.075000</td>\n",
       "      <td>5.188425</td>\n",
       "      <td>24.000000</td>\n",
       "      <td>666.000000</td>\n",
       "      <td>20.200000</td>\n",
       "      <td>396.225000</td>\n",
       "      <td>16.955000</td>\n",
       "      <td>25.000000</td>\n",
       "    </tr>\n",
       "    <tr>\n",
       "      <th>max</th>\n",
       "      <td>88.976200</td>\n",
       "      <td>100.000000</td>\n",
       "      <td>27.740000</td>\n",
       "      <td>1.000000</td>\n",
       "      <td>0.871000</td>\n",
       "      <td>8.780000</td>\n",
       "      <td>100.000000</td>\n",
       "      <td>12.126500</td>\n",
       "      <td>24.000000</td>\n",
       "      <td>711.000000</td>\n",
       "      <td>22.000000</td>\n",
       "      <td>396.900000</td>\n",
       "      <td>37.970000</td>\n",
       "      <td>50.000000</td>\n",
       "    </tr>\n",
       "  </tbody>\n",
       "</table>\n",
       "</div>"
      ],
      "text/plain": [
       "             CRIM          ZN       INDUS        CHAS         NOX          RM  \\\n",
       "count  506.000000  506.000000  506.000000  506.000000  506.000000  506.000000   \n",
       "mean     3.613524   11.363636   11.136779    0.069170    0.554695    6.284634   \n",
       "std      8.601545   23.322453    6.860353    0.253994    0.115878    0.702617   \n",
       "min      0.006320    0.000000    0.460000    0.000000    0.385000    3.561000   \n",
       "25%      0.082045    0.000000    5.190000    0.000000    0.449000    5.885500   \n",
       "50%      0.256510    0.000000    9.690000    0.000000    0.538000    6.208500   \n",
       "75%      3.677083   12.500000   18.100000    0.000000    0.624000    6.623500   \n",
       "max     88.976200  100.000000   27.740000    1.000000    0.871000    8.780000   \n",
       "\n",
       "              AGE         DIS         RAD         TAX     PTRATIO           B  \\\n",
       "count  506.000000  506.000000  506.000000  506.000000  506.000000  506.000000   \n",
       "mean    68.574901    3.795043    9.549407  408.237154   18.455534  356.674032   \n",
       "std     28.148861    2.105710    8.707259  168.537116    2.164946   91.294864   \n",
       "min      2.900000    1.129600    1.000000  187.000000   12.600000    0.320000   \n",
       "25%     45.025000    2.100175    4.000000  279.000000   17.400000  375.377500   \n",
       "50%     77.500000    3.207450    5.000000  330.000000   19.050000  391.440000   \n",
       "75%     94.075000    5.188425   24.000000  666.000000   20.200000  396.225000   \n",
       "max    100.000000   12.126500   24.000000  711.000000   22.000000  396.900000   \n",
       "\n",
       "            LSTAT        MEDV  \n",
       "count  506.000000  506.000000  \n",
       "mean    12.653063   22.532806  \n",
       "std      7.141062    9.197104  \n",
       "min      1.730000    5.000000  \n",
       "25%      6.950000   17.025000  \n",
       "50%     11.360000   21.200000  \n",
       "75%     16.955000   25.000000  \n",
       "max     37.970000   50.000000  "
      ]
     },
     "execution_count": 7,
     "metadata": {},
     "output_type": "execute_result"
    }
   ],
   "source": [
    "df.describe()"
   ]
  },
  {
   "cell_type": "markdown",
   "id": "44bc6735",
   "metadata": {},
   "source": [
    "#### Checking correlation with target variable MEDV"
   ]
  },
  {
   "cell_type": "code",
   "execution_count": 8,
   "id": "64ef4b15",
   "metadata": {},
   "outputs": [
    {
     "data": {
      "text/plain": [
       "LSTAT     -0.737663\n",
       "PTRATIO   -0.507787\n",
       "INDUS     -0.483725\n",
       "TAX       -0.468536\n",
       "NOX       -0.427321\n",
       "CRIM      -0.388305\n",
       "RAD       -0.381626\n",
       "AGE       -0.376955\n",
       "CHAS       0.175260\n",
       "DIS        0.249929\n",
       "B          0.333461\n",
       "ZN         0.360445\n",
       "RM         0.695360\n",
       "MEDV       1.000000\n",
       "Name: MEDV, dtype: float64"
      ]
     },
     "execution_count": 8,
     "metadata": {},
     "output_type": "execute_result"
    }
   ],
   "source": [
    "df.corr()['MEDV'].sort_values()"
   ]
  },
  {
   "cell_type": "code",
   "execution_count": 9,
   "id": "7168e688",
   "metadata": {},
   "outputs": [
    {
     "data": {
      "text/plain": [
       "((506, 3), (506,))"
      ]
     },
     "execution_count": 9,
     "metadata": {},
     "output_type": "execute_result"
    }
   ],
   "source": [
    "X = df.loc[:,['LSTAT','PTRATIO','RM']]\n",
    "Y = df.loc[:,\"MEDV\"]\n",
    "X.shape,Y.shape"
   ]
  },
  {
   "cell_type": "markdown",
   "id": "08648c29",
   "metadata": {},
   "source": [
    "### Preparing training and testing data set"
   ]
  },
  {
   "cell_type": "code",
   "execution_count": 10,
   "id": "cecea370",
   "metadata": {},
   "outputs": [],
   "source": [
    "from sklearn.model_selection import train_test_split\n",
    "x_train,x_test,y_train,y_test = train_test_split(X,Y,test_size=0.25,random_state=10)"
   ]
  },
  {
   "cell_type": "markdown",
   "id": "7eabb9f2",
   "metadata": {},
   "source": [
    "### Normalizing training and testing dataset"
   ]
  },
  {
   "cell_type": "code",
   "execution_count": 11,
   "id": "926fe0ce",
   "metadata": {},
   "outputs": [],
   "source": [
    "from sklearn.preprocessing import StandardScaler"
   ]
  },
  {
   "cell_type": "code",
   "execution_count": 12,
   "id": "1e49c4a2",
   "metadata": {},
   "outputs": [],
   "source": [
    "scaler = StandardScaler()"
   ]
  },
  {
   "cell_type": "code",
   "execution_count": 13,
   "id": "b99b26de",
   "metadata": {},
   "outputs": [
    {
     "data": {
      "text/plain": [
       "StandardScaler()"
      ]
     },
     "execution_count": 13,
     "metadata": {},
     "output_type": "execute_result"
    }
   ],
   "source": [
    "scaler.fit(x_train)"
   ]
  },
  {
   "cell_type": "code",
   "execution_count": 14,
   "id": "eece8526",
   "metadata": {},
   "outputs": [],
   "source": [
    "x_train = scaler.transform(x_train)\n",
    "x_test = scaler.transform(x_test)"
   ]
  },
  {
   "cell_type": "markdown",
   "id": "a1ed18cc",
   "metadata": {},
   "source": [
    "### Preparing model"
   ]
  },
  {
   "cell_type": "code",
   "execution_count": 15,
   "id": "1243c6f8",
   "metadata": {},
   "outputs": [],
   "source": [
    "from keras.models import Sequential\n",
    "from keras.layers import Dense"
   ]
  },
  {
   "cell_type": "code",
   "execution_count": 16,
   "id": "e7dad931",
   "metadata": {},
   "outputs": [],
   "source": [
    "model = Sequential()"
   ]
  },
  {
   "cell_type": "code",
   "execution_count": 17,
   "id": "0baf27a9",
   "metadata": {},
   "outputs": [
    {
     "name": "stdout",
     "output_type": "stream",
     "text": [
      "Model: \"sequential\"\n",
      "_________________________________________________________________\n",
      " Layer (type)                Output Shape              Param #   \n",
      "=================================================================\n",
      " input (Dense)               (None, 128)               512       \n",
      "                                                                 \n",
      " layer_1 (Dense)             (None, 64)                8256      \n",
      "                                                                 \n",
      " output (Dense)              (None, 1)                 65        \n",
      "                                                                 \n",
      "=================================================================\n",
      "Total params: 8,833\n",
      "Trainable params: 8,833\n",
      "Non-trainable params: 0\n",
      "_________________________________________________________________\n"
     ]
    }
   ],
   "source": [
    "model.add(Dense(128,input_shape=(3,),activation='relu',name='input'))\n",
    "model.add(Dense(64,activation='relu',name='layer_1'))\n",
    "model.add(Dense(1,activation='linear',name='output'))\n",
    "model.compile(optimizer='adam', loss='mse', metrics=['mae'])\n",
    "model.summary()"
   ]
  },
  {
   "cell_type": "code",
   "execution_count": 18,
   "id": "4b51358b",
   "metadata": {},
   "outputs": [
    {
     "name": "stdout",
     "output_type": "stream",
     "text": [
      "Epoch 1/100\n",
      "12/12 [==============================] - 2s 53ms/step - loss: 539.2911 - mae: 21.6028 - val_loss: 708.5662 - val_mae: 23.9646\n",
      "Epoch 2/100\n",
      "12/12 [==============================] - 0s 13ms/step - loss: 506.3215 - mae: 20.8718 - val_loss: 671.6750 - val_mae: 23.1712\n",
      "Epoch 3/100\n",
      "12/12 [==============================] - 0s 11ms/step - loss: 466.7391 - mae: 19.9747 - val_loss: 622.3312 - val_mae: 22.0846\n",
      "Epoch 4/100\n",
      "12/12 [==============================] - 0s 9ms/step - loss: 413.6024 - mae: 18.6774 - val_loss: 553.8527 - val_mae: 20.5076\n",
      "Epoch 5/100\n",
      "12/12 [==============================] - 0s 11ms/step - loss: 340.0710 - mae: 16.8183 - val_loss: 467.4739 - val_mae: 18.4865\n",
      "Epoch 6/100\n",
      "12/12 [==============================] - 0s 12ms/step - loss: 254.0955 - mae: 14.3808 - val_loss: 367.5447 - val_mae: 16.0270\n",
      "Epoch 7/100\n",
      "12/12 [==============================] - 0s 9ms/step - loss: 163.4490 - mae: 11.4762 - val_loss: 269.1692 - val_mae: 13.0181\n",
      "Epoch 8/100\n",
      "12/12 [==============================] - 0s 11ms/step - loss: 89.2134 - mae: 8.2882 - val_loss: 189.9538 - val_mae: 10.2955\n",
      "Epoch 9/100\n",
      "12/12 [==============================] - 0s 10ms/step - loss: 50.0832 - mae: 5.8525 - val_loss: 143.4507 - val_mae: 8.5330\n",
      "Epoch 10/100\n",
      "12/12 [==============================] - 0s 10ms/step - loss: 39.4145 - mae: 4.9155 - val_loss: 120.4480 - val_mae: 7.6250\n",
      "Epoch 11/100\n",
      "12/12 [==============================] - 0s 10ms/step - loss: 34.2234 - mae: 4.4500 - val_loss: 109.6613 - val_mae: 7.3691\n",
      "Epoch 12/100\n",
      "12/12 [==============================] - 0s 11ms/step - loss: 29.7919 - mae: 4.0989 - val_loss: 104.3488 - val_mae: 7.2210\n",
      "Epoch 13/100\n",
      "12/12 [==============================] - 0s 10ms/step - loss: 27.2405 - mae: 3.8908 - val_loss: 99.0083 - val_mae: 7.0297\n",
      "Epoch 14/100\n",
      "12/12 [==============================] - 0s 13ms/step - loss: 25.6894 - mae: 3.7644 - val_loss: 94.3940 - val_mae: 6.8878\n",
      "Epoch 15/100\n",
      "12/12 [==============================] - 0s 9ms/step - loss: 24.4743 - mae: 3.6621 - val_loss: 91.3494 - val_mae: 6.7957\n",
      "Epoch 16/100\n",
      "12/12 [==============================] - 0s 13ms/step - loss: 23.6394 - mae: 3.5910 - val_loss: 90.5867 - val_mae: 6.7428\n",
      "Epoch 17/100\n",
      "12/12 [==============================] - 0s 11ms/step - loss: 22.8061 - mae: 3.5299 - val_loss: 89.8672 - val_mae: 6.7059\n",
      "Epoch 18/100\n",
      "12/12 [==============================] - 0s 11ms/step - loss: 22.1649 - mae: 3.4753 - val_loss: 88.9616 - val_mae: 6.6698\n",
      "Epoch 19/100\n",
      "12/12 [==============================] - 0s 11ms/step - loss: 21.4995 - mae: 3.4112 - val_loss: 88.1913 - val_mae: 6.6296\n",
      "Epoch 20/100\n",
      "12/12 [==============================] - 0s 9ms/step - loss: 20.9803 - mae: 3.3719 - val_loss: 87.7182 - val_mae: 6.5633\n",
      "Epoch 21/100\n",
      "12/12 [==============================] - 0s 10ms/step - loss: 20.4479 - mae: 3.3286 - val_loss: 86.6075 - val_mae: 6.4872\n",
      "Epoch 22/100\n",
      "12/12 [==============================] - 0s 9ms/step - loss: 19.9252 - mae: 3.2822 - val_loss: 85.9076 - val_mae: 6.4443\n",
      "Epoch 23/100\n",
      "12/12 [==============================] - 0s 10ms/step - loss: 19.5059 - mae: 3.2464 - val_loss: 85.0506 - val_mae: 6.3660\n",
      "Epoch 24/100\n",
      "12/12 [==============================] - 0s 11ms/step - loss: 19.1466 - mae: 3.2179 - val_loss: 84.7840 - val_mae: 6.3247\n",
      "Epoch 25/100\n",
      "12/12 [==============================] - 0s 9ms/step - loss: 18.7148 - mae: 3.1727 - val_loss: 84.2077 - val_mae: 6.2782\n",
      "Epoch 26/100\n",
      "12/12 [==============================] - 0s 9ms/step - loss: 18.3745 - mae: 3.1370 - val_loss: 84.6847 - val_mae: 6.2667\n",
      "Epoch 27/100\n",
      "12/12 [==============================] - 0s 11ms/step - loss: 18.0907 - mae: 3.1021 - val_loss: 85.2562 - val_mae: 6.2282\n",
      "Epoch 28/100\n",
      "12/12 [==============================] - 0s 12ms/step - loss: 17.7178 - mae: 3.0764 - val_loss: 84.2055 - val_mae: 6.1324\n",
      "Epoch 29/100\n",
      "12/12 [==============================] - 0s 10ms/step - loss: 17.4711 - mae: 3.0584 - val_loss: 83.9480 - val_mae: 6.0800\n",
      "Epoch 30/100\n",
      "12/12 [==============================] - 0s 10ms/step - loss: 17.1969 - mae: 3.0316 - val_loss: 81.6525 - val_mae: 5.9682\n",
      "Epoch 31/100\n",
      "12/12 [==============================] - 0s 9ms/step - loss: 16.9258 - mae: 3.0162 - val_loss: 81.8426 - val_mae: 5.9305\n",
      "Epoch 32/100\n",
      "12/12 [==============================] - 0s 9ms/step - loss: 16.7039 - mae: 2.9899 - val_loss: 82.5370 - val_mae: 5.9237\n",
      "Epoch 33/100\n",
      "12/12 [==============================] - 0s 11ms/step - loss: 16.4305 - mae: 2.9622 - val_loss: 82.4255 - val_mae: 5.8946\n",
      "Epoch 34/100\n",
      "12/12 [==============================] - 0s 9ms/step - loss: 16.2343 - mae: 2.9363 - val_loss: 82.7476 - val_mae: 5.8871\n",
      "Epoch 35/100\n",
      "12/12 [==============================] - 0s 9ms/step - loss: 16.0647 - mae: 2.9212 - val_loss: 82.2225 - val_mae: 5.8660\n",
      "Epoch 36/100\n",
      "12/12 [==============================] - 0s 10ms/step - loss: 15.8816 - mae: 2.9065 - val_loss: 81.7927 - val_mae: 5.8127\n",
      "Epoch 37/100\n",
      "12/12 [==============================] - 0s 9ms/step - loss: 15.6419 - mae: 2.8874 - val_loss: 81.5825 - val_mae: 5.7658\n",
      "Epoch 38/100\n",
      "12/12 [==============================] - 0s 9ms/step - loss: 15.5342 - mae: 2.8722 - val_loss: 81.2292 - val_mae: 5.7214\n",
      "Epoch 39/100\n",
      "12/12 [==============================] - 0s 11ms/step - loss: 15.2873 - mae: 2.8372 - val_loss: 83.1768 - val_mae: 5.7727\n",
      "Epoch 40/100\n",
      "12/12 [==============================] - 0s 9ms/step - loss: 15.2641 - mae: 2.8294 - val_loss: 83.0453 - val_mae: 5.7248\n",
      "Epoch 41/100\n",
      "12/12 [==============================] - 0s 9ms/step - loss: 15.1101 - mae: 2.8215 - val_loss: 82.4333 - val_mae: 5.6811\n",
      "Epoch 42/100\n",
      "12/12 [==============================] - 0s 10ms/step - loss: 14.9924 - mae: 2.8059 - val_loss: 82.4092 - val_mae: 5.6586\n",
      "Epoch 43/100\n",
      "12/12 [==============================] - 0s 9ms/step - loss: 14.8041 - mae: 2.7851 - val_loss: 81.6021 - val_mae: 5.6425\n",
      "Epoch 44/100\n",
      "12/12 [==============================] - 0s 11ms/step - loss: 14.6942 - mae: 2.7814 - val_loss: 80.0983 - val_mae: 5.5817\n",
      "Epoch 45/100\n",
      "12/12 [==============================] - 0s 9ms/step - loss: 14.6107 - mae: 2.7832 - val_loss: 80.3339 - val_mae: 5.5714\n",
      "Epoch 46/100\n",
      "12/12 [==============================] - 0s 9ms/step - loss: 14.4966 - mae: 2.7611 - val_loss: 83.5054 - val_mae: 5.6547\n",
      "Epoch 47/100\n",
      "12/12 [==============================] - 0s 9ms/step - loss: 14.4279 - mae: 2.7324 - val_loss: 80.8443 - val_mae: 5.5263\n",
      "Epoch 48/100\n",
      "12/12 [==============================] - 0s 9ms/step - loss: 14.3395 - mae: 2.7211 - val_loss: 79.9668 - val_mae: 5.4820\n",
      "Epoch 49/100\n",
      "12/12 [==============================] - 0s 9ms/step - loss: 14.3885 - mae: 2.7432 - val_loss: 80.5138 - val_mae: 5.4968\n",
      "Epoch 50/100\n",
      "12/12 [==============================] - 0s 10ms/step - loss: 14.2106 - mae: 2.7309 - val_loss: 83.1156 - val_mae: 5.5821\n",
      "Epoch 51/100\n",
      "12/12 [==============================] - 0s 10ms/step - loss: 14.1643 - mae: 2.6981 - val_loss: 79.4093 - val_mae: 5.4336\n",
      "Epoch 52/100\n",
      "12/12 [==============================] - 0s 9ms/step - loss: 13.8945 - mae: 2.6752 - val_loss: 80.6351 - val_mae: 5.4538\n",
      "Epoch 53/100\n",
      "12/12 [==============================] - 0s 11ms/step - loss: 13.7842 - mae: 2.6697 - val_loss: 80.7124 - val_mae: 5.4556\n",
      "Epoch 54/100\n",
      "12/12 [==============================] - 0s 11ms/step - loss: 13.6417 - mae: 2.6617 - val_loss: 79.1203 - val_mae: 5.4045\n",
      "Epoch 55/100\n",
      "12/12 [==============================] - 0s 14ms/step - loss: 13.5537 - mae: 2.6674 - val_loss: 78.9995 - val_mae: 5.4098\n",
      "Epoch 56/100\n",
      "12/12 [==============================] - 0s 10ms/step - loss: 13.5146 - mae: 2.6554 - val_loss: 79.5111 - val_mae: 5.4014\n",
      "Epoch 57/100\n",
      "12/12 [==============================] - 0s 10ms/step - loss: 13.3217 - mae: 2.6299 - val_loss: 80.4437 - val_mae: 5.3966\n",
      "Epoch 58/100\n",
      "12/12 [==============================] - 0s 14ms/step - loss: 13.3051 - mae: 2.6247 - val_loss: 80.7450 - val_mae: 5.3654\n",
      "Epoch 59/100\n",
      "12/12 [==============================] - 0s 11ms/step - loss: 13.2311 - mae: 2.6169 - val_loss: 78.4653 - val_mae: 5.2992\n",
      "Epoch 60/100\n",
      "12/12 [==============================] - 0s 11ms/step - loss: 13.1291 - mae: 2.6000 - val_loss: 80.9283 - val_mae: 5.3706\n",
      "Epoch 61/100\n"
     ]
    },
    {
     "name": "stdout",
     "output_type": "stream",
     "text": [
      "12/12 [==============================] - 0s 10ms/step - loss: 13.0746 - mae: 2.6052 - val_loss: 80.2841 - val_mae: 5.3396\n",
      "Epoch 62/100\n",
      "12/12 [==============================] - 0s 9ms/step - loss: 12.9002 - mae: 2.5799 - val_loss: 79.4223 - val_mae: 5.2832\n",
      "Epoch 63/100\n",
      "12/12 [==============================] - 0s 10ms/step - loss: 12.8149 - mae: 2.5758 - val_loss: 79.8036 - val_mae: 5.2975\n",
      "Epoch 64/100\n",
      "12/12 [==============================] - 0s 9ms/step - loss: 12.6747 - mae: 2.5782 - val_loss: 77.6885 - val_mae: 5.3033\n",
      "Epoch 65/100\n",
      "12/12 [==============================] - 0s 9ms/step - loss: 12.7076 - mae: 2.6089 - val_loss: 79.0439 - val_mae: 5.3087\n",
      "Epoch 66/100\n",
      "12/12 [==============================] - 0s 9ms/step - loss: 12.5774 - mae: 2.5850 - val_loss: 80.4104 - val_mae: 5.3045\n",
      "Epoch 67/100\n",
      "12/12 [==============================] - 0s 9ms/step - loss: 12.4626 - mae: 2.5475 - val_loss: 80.0999 - val_mae: 5.2504\n",
      "Epoch 68/100\n",
      "12/12 [==============================] - 0s 10ms/step - loss: 12.3070 - mae: 2.5222 - val_loss: 80.7591 - val_mae: 5.2228\n",
      "Epoch 69/100\n",
      "12/12 [==============================] - 0s 11ms/step - loss: 12.2507 - mae: 2.5117 - val_loss: 79.9018 - val_mae: 5.1961\n",
      "Epoch 70/100\n",
      "12/12 [==============================] - 0s 9ms/step - loss: 12.1783 - mae: 2.5151 - val_loss: 81.2037 - val_mae: 5.2096\n",
      "Epoch 71/100\n",
      "12/12 [==============================] - 0s 11ms/step - loss: 12.1537 - mae: 2.4968 - val_loss: 78.6277 - val_mae: 5.1478\n",
      "Epoch 72/100\n",
      "12/12 [==============================] - 0s 11ms/step - loss: 11.9795 - mae: 2.4785 - val_loss: 81.7577 - val_mae: 5.2033\n",
      "Epoch 73/100\n",
      "12/12 [==============================] - 0s 9ms/step - loss: 11.9696 - mae: 2.5019 - val_loss: 81.8564 - val_mae: 5.1975\n",
      "Epoch 74/100\n",
      "12/12 [==============================] - 0s 9ms/step - loss: 11.8518 - mae: 2.5015 - val_loss: 80.2826 - val_mae: 5.1808\n",
      "Epoch 75/100\n",
      "12/12 [==============================] - 0s 10ms/step - loss: 11.7755 - mae: 2.4761 - val_loss: 80.4577 - val_mae: 5.1574\n",
      "Epoch 76/100\n",
      "12/12 [==============================] - 0s 9ms/step - loss: 11.7356 - mae: 2.4734 - val_loss: 81.1006 - val_mae: 5.1760\n",
      "Epoch 77/100\n",
      "12/12 [==============================] - 0s 9ms/step - loss: 11.7469 - mae: 2.4878 - val_loss: 79.5115 - val_mae: 5.1456\n",
      "Epoch 78/100\n",
      "12/12 [==============================] - 0s 10ms/step - loss: 11.5511 - mae: 2.4718 - val_loss: 82.7929 - val_mae: 5.2255\n",
      "Epoch 79/100\n",
      "12/12 [==============================] - 0s 10ms/step - loss: 11.6095 - mae: 2.4601 - val_loss: 81.9202 - val_mae: 5.1357\n",
      "Epoch 80/100\n",
      "12/12 [==============================] - 0s 10ms/step - loss: 11.4707 - mae: 2.4427 - val_loss: 80.8143 - val_mae: 5.1572\n",
      "Epoch 81/100\n",
      "12/12 [==============================] - 0s 10ms/step - loss: 11.3998 - mae: 2.4467 - val_loss: 78.7451 - val_mae: 5.0839\n",
      "Epoch 82/100\n",
      "12/12 [==============================] - 0s 9ms/step - loss: 11.3945 - mae: 2.4350 - val_loss: 81.6314 - val_mae: 5.1697\n",
      "Epoch 83/100\n",
      "12/12 [==============================] - 0s 9ms/step - loss: 11.2868 - mae: 2.4224 - val_loss: 80.8796 - val_mae: 5.1053\n",
      "Epoch 84/100\n",
      "12/12 [==============================] - 0s 9ms/step - loss: 11.2933 - mae: 2.4186 - val_loss: 80.8439 - val_mae: 5.0951\n",
      "Epoch 85/100\n",
      "12/12 [==============================] - 0s 9ms/step - loss: 11.3944 - mae: 2.4235 - val_loss: 81.1154 - val_mae: 5.0786\n",
      "Epoch 86/100\n",
      "12/12 [==============================] - 0s 9ms/step - loss: 11.3888 - mae: 2.4187 - val_loss: 83.2470 - val_mae: 5.2305\n",
      "Epoch 87/100\n",
      "12/12 [==============================] - 0s 10ms/step - loss: 11.0781 - mae: 2.4028 - val_loss: 80.0263 - val_mae: 5.0942\n",
      "Epoch 88/100\n",
      "12/12 [==============================] - 0s 9ms/step - loss: 11.1180 - mae: 2.4127 - val_loss: 80.8835 - val_mae: 5.1160\n",
      "Epoch 89/100\n",
      "12/12 [==============================] - 0s 9ms/step - loss: 11.0975 - mae: 2.3980 - val_loss: 83.3732 - val_mae: 5.1746\n",
      "Epoch 90/100\n",
      "12/12 [==============================] - 0s 9ms/step - loss: 11.0572 - mae: 2.3984 - val_loss: 81.9773 - val_mae: 5.1214\n",
      "Epoch 91/100\n",
      "12/12 [==============================] - 0s 9ms/step - loss: 11.0261 - mae: 2.4112 - val_loss: 81.8094 - val_mae: 5.1724\n",
      "Epoch 92/100\n",
      "12/12 [==============================] - 0s 9ms/step - loss: 10.9577 - mae: 2.4006 - val_loss: 82.4225 - val_mae: 5.1415\n",
      "Epoch 93/100\n",
      "12/12 [==============================] - 0s 9ms/step - loss: 10.9168 - mae: 2.3853 - val_loss: 83.1790 - val_mae: 5.1393\n",
      "Epoch 94/100\n",
      "12/12 [==============================] - 0s 9ms/step - loss: 10.9348 - mae: 2.3927 - val_loss: 83.6329 - val_mae: 5.1397\n",
      "Epoch 95/100\n",
      "12/12 [==============================] - 0s 9ms/step - loss: 11.0107 - mae: 2.4054 - val_loss: 81.2756 - val_mae: 5.1034\n",
      "Epoch 96/100\n",
      "12/12 [==============================] - 0s 9ms/step - loss: 10.9627 - mae: 2.3961 - val_loss: 84.8841 - val_mae: 5.1991\n",
      "Epoch 97/100\n",
      "12/12 [==============================] - 0s 9ms/step - loss: 10.7220 - mae: 2.3633 - val_loss: 82.0974 - val_mae: 5.0658\n",
      "Epoch 98/100\n",
      "12/12 [==============================] - 0s 9ms/step - loss: 10.8073 - mae: 2.3776 - val_loss: 81.4088 - val_mae: 5.1130\n",
      "Epoch 99/100\n",
      "12/12 [==============================] - 0s 10ms/step - loss: 10.7377 - mae: 2.3667 - val_loss: 83.0202 - val_mae: 5.1248\n",
      "Epoch 100/100\n",
      "12/12 [==============================] - 0s 10ms/step - loss: 10.6293 - mae: 2.3574 - val_loss: 83.6140 - val_mae: 5.1036\n"
     ]
    },
    {
     "data": {
      "text/plain": [
       "<keras.callbacks.History at 0x2d2d819cd60>"
      ]
     },
     "execution_count": 18,
     "metadata": {},
     "output_type": "execute_result"
    }
   ],
   "source": [
    "model.fit(x_train,y_train,epochs=100,validation_split=0.05)"
   ]
  },
  {
   "cell_type": "code",
   "execution_count": 23,
   "id": "b98908f1",
   "metadata": {},
   "outputs": [
    {
     "name": "stdout",
     "output_type": "stream",
     "text": [
      "4/4 [==============================] - 0s 4ms/step\n"
     ]
    }
   ],
   "source": [
    "# Make predictions on the test set\n",
    "y_pred = model.predict(x_test)"
   ]
  },
  {
   "cell_type": "code",
   "execution_count": 25,
   "id": "4feb877a",
   "metadata": {},
   "outputs": [],
   "source": [
    "from sklearn.metrics import mean_squared_error, mean_absolute_error, r2_score\n"
   ]
  },
  {
   "cell_type": "code",
   "execution_count": 26,
   "id": "7b5a97d7",
   "metadata": {},
   "outputs": [],
   "source": [
    "# Calculate metrics\n",
    "mse = mean_squared_error(y_test, y_pred)\n",
    "mae = mean_absolute_error(y_test, y_pred)\n",
    "r2 = r2_score(y_test, y_pred)"
   ]
  },
  {
   "cell_type": "code",
   "execution_count": 19,
   "id": "e2afb08a",
   "metadata": {},
   "outputs": [
    {
     "name": "stdout",
     "output_type": "stream",
     "text": [
      "4/4 [==============================] - 0s 4ms/step - loss: 23.1760 - mae: 3.1732\n"
     ]
    }
   ],
   "source": [
    "output = model.evaluate(x_test,y_test)"
   ]
  },
  {
   "cell_type": "code",
   "execution_count": 27,
   "id": "8abc46bf",
   "metadata": {},
   "outputs": [
    {
     "name": "stdout",
     "output_type": "stream",
     "text": [
      "Mean Squared Error: 23.175983362100858\n",
      "Mean Absolute Error: 3.173217832009624\n",
      "R-squared: 0.7675142758666804\n"
     ]
    }
   ],
   "source": [
    "# Print metrics\n",
    "print('Mean Squared Error:', mse)\n",
    "print('Mean Absolute Error:', mae)\n",
    "print('R-squared:', r2)"
   ]
  },
  {
   "cell_type": "code",
   "execution_count": 28,
   "id": "b7bf34bd",
   "metadata": {},
   "outputs": [
    {
     "name": "stdout",
     "output_type": "stream",
     "text": [
      "Mean Squared Error: 23.175983428955078\n",
      "Mean Absolute Error: 3.1732177734375\n"
     ]
    }
   ],
   "source": [
    "print(f\"Mean Squared Error: {output[0]}\"\n",
    "      ,f\"Mean Absolute Error: {output[1]}\",sep=\"\\n\")"
   ]
  },
  {
   "cell_type": "code",
   "execution_count": 29,
   "id": "85333e40",
   "metadata": {},
   "outputs": [
    {
     "name": "stdout",
     "output_type": "stream",
     "text": [
      "4/4 [==============================] - 0s 2ms/step\n"
     ]
    }
   ],
   "source": [
    "y_pred = model.predict(x=x_test)"
   ]
  },
  {
   "cell_type": "code",
   "execution_count": null,
   "id": "4be4c127",
   "metadata": {},
   "outputs": [],
   "source": [
    "print(*zip(y_pred,y_test))"
   ]
  },
  {
   "cell_type": "code",
   "execution_count": null,
   "id": "fbaee296",
   "metadata": {},
   "outputs": [],
   "source": []
  }
 ],
 "metadata": {
  "kernelspec": {
   "display_name": "Python 3 (ipykernel)",
   "language": "python",
   "name": "python3"
  },
  "language_info": {
   "codemirror_mode": {
    "name": "ipython",
    "version": 3
   },
   "file_extension": ".py",
   "mimetype": "text/x-python",
   "name": "python",
   "nbconvert_exporter": "python",
   "pygments_lexer": "ipython3",
   "version": "3.9.6"
  }
 },
 "nbformat": 4,
 "nbformat_minor": 5
}
